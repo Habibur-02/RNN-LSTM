{
 "cells": [
  {
   "cell_type": "code",
   "execution_count": 1,
   "id": "7ddb9698",
   "metadata": {
    "_cell_guid": "b1076dfc-b9ad-4769-8c92-a6c4dae69d19",
    "_uuid": "8f2839f25d086af736a60e9eeb907d3b93b6e0e5",
    "execution": {
     "iopub.execute_input": "2025-10-05T16:50:54.254544Z",
     "iopub.status.busy": "2025-10-05T16:50:54.254226Z",
     "iopub.status.idle": "2025-10-05T16:50:56.103747Z",
     "shell.execute_reply": "2025-10-05T16:50:56.102798Z"
    },
    "papermill": {
     "duration": 1.85447,
     "end_time": "2025-10-05T16:50:56.105499",
     "exception": false,
     "start_time": "2025-10-05T16:50:54.251029",
     "status": "completed"
    },
    "tags": []
   },
   "outputs": [],
   "source": [
    "# This Python 3 environment comes with many helpful analytics libraries installed\n",
    "# It is defined by the kaggle/python Docker image: https://github.com/kaggle/docker-python\n",
    "# For example, here's several helpful packages to load\n",
    "\n",
    "import numpy as np # linear algebra\n",
    "import pandas as pd # data processing, CSV file I/O (e.g. pd.read_csv)\n",
    "\n",
    "# Input data files are available in the read-only \"../input/\" directory\n",
    "# For example, running this (by clicking run or pressing Shift+Enter) will list all files under the input directory\n",
    "\n",
    "import os\n",
    "for dirname, _, filenames in os.walk('/kaggle/input'):\n",
    "    for filename in filenames:\n",
    "        print(os.path.join(dirname, filename))\n",
    "\n",
    "# You can write up to 20GB to the current directory (/kaggle/working/) that gets preserved as output when you create a version using \"Save & Run All\" \n",
    "# You can also write temporary files to /kaggle/temp/, but they won't be saved outside of the current session"
   ]
  },
  {
   "cell_type": "code",
   "execution_count": 2,
   "id": "f8964d96",
   "metadata": {
    "execution": {
     "iopub.execute_input": "2025-10-05T16:50:56.110584Z",
     "iopub.status.busy": "2025-10-05T16:50:56.110087Z",
     "iopub.status.idle": "2025-10-05T16:51:07.841857Z",
     "shell.execute_reply": "2025-10-05T16:51:07.840918Z"
    },
    "papermill": {
     "duration": 11.735906,
     "end_time": "2025-10-05T16:51:07.843494",
     "exception": false,
     "start_time": "2025-10-05T16:50:56.107588",
     "status": "completed"
    },
    "tags": []
   },
   "outputs": [
    {
     "name": "stdout",
     "output_type": "stream",
     "text": [
      "Epoch 0 Loss: 3.0028\n",
      "Epoch 40 Loss: 0.0339\n",
      "Epoch 80 Loss: 0.0043\n",
      "Epoch 120 Loss: 0.0026\n",
      "Epoch 160 Loss: 0.0018\n",
      "Input: 'lstm is useful for' -> Predicted next word: 'sequence'\n"
     ]
    }
   ],
   "source": [
    "import torch\n",
    "import torch.nn as nn\n",
    "import torch.optim as optim\n",
    "import numpy as np\n",
    "\n",
    "# 1. Data Preparation\n",
    "paragraph = \"PyTorch makes building neural networks simple. LSTM is useful for sequence prediction tasks. Predicting the next word is a fun application.\"\n",
    "words = paragraph.lower().replace('.', '').replace(',', '').split()\n",
    "vocab = sorted(set(words))\n",
    "word_to_idx = {w: i for i, w in enumerate(vocab)}\n",
    "idx_to_word = {i: w for w, i in word_to_idx.items()}\n",
    "\n",
    "# Create input-output pairs (sequence length = 3)\n",
    "seq_length = 3\n",
    "inputs, targets = [], []\n",
    "for i in range(len(words) - seq_length):\n",
    "    inputs.append([word_to_idx[w] for w in words[i:i+seq_length]])\n",
    "    targets.append(word_to_idx[words[i+seq_length]])\n",
    "inputs = torch.tensor(inputs)\n",
    "targets = torch.tensor(targets)\n",
    "\n",
    "# 2. Model\n",
    "class LSTMNextWord(nn.Module):\n",
    "    def __init__(self, vocab_size, embed_size, hidden_size):\n",
    "        super().__init__()\n",
    "        self.embedding = nn.Embedding(vocab_size, embed_size)\n",
    "        self.lstm = nn.LSTM(embed_size, hidden_size, batch_first=True)\n",
    "        self.fc = nn.Linear(hidden_size, vocab_size)\n",
    "    def forward(self, x):\n",
    "        x = self.embedding(x)\n",
    "        out, _ = self.lstm(x)\n",
    "        out = self.fc(out[:, -1, :])  # Only last output for next-word\n",
    "        return out\n",
    "\n",
    "# 3. Training\n",
    "vocab_size = len(vocab)\n",
    "embed_size = 10\n",
    "hidden_size = 32\n",
    "model = LSTMNextWord(vocab_size, embed_size, hidden_size)\n",
    "loss_fn = nn.CrossEntropyLoss()\n",
    "optimizer = optim.Adam(model.parameters(), lr=0.01)\n",
    "\n",
    "n_epochs = 200\n",
    "for epoch in range(n_epochs):\n",
    "    model.train()\n",
    "    optimizer.zero_grad()\n",
    "    output = model(inputs)\n",
    "    loss = loss_fn(output, targets)\n",
    "    loss.backward()\n",
    "    optimizer.step()\n",
    "    if epoch % 40 == 0:\n",
    "        print(f\"Epoch {epoch} Loss: {loss.item():.4f}\")\n",
    "\n",
    "# 4. Prediction\n",
    "def predict_next(model, text, word_to_idx, idx_to_word):\n",
    "    model.eval()\n",
    "    words = text.lower().replace('.', '').replace(',', '').split()\n",
    "    seq = [word_to_idx.get(w, 0) for w in words[-seq_length:]]\n",
    "    x = torch.tensor(seq).unsqueeze(0)\n",
    "    with torch.no_grad():\n",
    "        out = model(x)\n",
    "        pred_idx = out.argmax(dim=1).item()\n",
    "        return idx_to_word[pred_idx]\n",
    "\n",
    "# Example usage:\n",
    "test_text = \"lstm is useful for\"\n",
    "next_word = predict_next(model, test_text, word_to_idx, idx_to_word)\n",
    "print(f\"Input: '{test_text}' -> Predicted next word: '{next_word}'\")"
   ]
  }
 ],
 "metadata": {
  "kaggle": {
   "accelerator": "none",
   "dataSources": [],
   "dockerImageVersionId": 31089,
   "isGpuEnabled": false,
   "isInternetEnabled": true,
   "language": "python",
   "sourceType": "notebook"
  },
  "kernelspec": {
   "display_name": "Python 3",
   "language": "python",
   "name": "python3"
  },
  "language_info": {
   "codemirror_mode": {
    "name": "ipython",
    "version": 3
   },
   "file_extension": ".py",
   "mimetype": "text/x-python",
   "name": "python",
   "nbconvert_exporter": "python",
   "pygments_lexer": "ipython3",
   "version": "3.11.13"
  },
  "papermill": {
   "default_parameters": {},
   "duration": 21.653797,
   "end_time": "2025-10-05T16:51:10.461249",
   "environment_variables": {},
   "exception": null,
   "input_path": "__notebook__.ipynb",
   "output_path": "__notebook__.ipynb",
   "parameters": {},
   "start_time": "2025-10-05T16:50:48.807452",
   "version": "2.6.0"
  }
 },
 "nbformat": 4,
 "nbformat_minor": 5
}
