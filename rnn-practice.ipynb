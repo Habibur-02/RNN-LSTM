{
 "cells": [
  {
   "cell_type": "code",
   "execution_count": 1,
   "id": "222b5d4d",
   "metadata": {
    "_cell_guid": "b1076dfc-b9ad-4769-8c92-a6c4dae69d19",
    "_uuid": "8f2839f25d086af736a60e9eeb907d3b93b6e0e5",
    "execution": {
     "iopub.execute_input": "2025-10-06T17:48:53.264010Z",
     "iopub.status.busy": "2025-10-06T17:48:53.263678Z",
     "iopub.status.idle": "2025-10-06T17:48:55.298865Z",
     "shell.execute_reply": "2025-10-06T17:48:55.297580Z"
    },
    "papermill": {
     "duration": 2.041952,
     "end_time": "2025-10-06T17:48:55.301095",
     "exception": false,
     "start_time": "2025-10-06T17:48:53.259143",
     "status": "completed"
    },
    "tags": []
   },
   "outputs": [],
   "source": [
    "# This Python 3 environment comes with many helpful analytics libraries installed\n",
    "# It is defined by the kaggle/python Docker image: https://github.com/kaggle/docker-python\n",
    "# For example, here's several helpful packages to load\n",
    "\n",
    "import numpy as np # linear algebra\n",
    "import pandas as pd # data processing, CSV file I/O (e.g. pd.read_csv)\n",
    "\n",
    "# Input data files are available in the read-only \"../input/\" directory\n",
    "# For example, running this (by clicking run or pressing Shift+Enter) will list all files under the input directory\n",
    "\n",
    "import os\n",
    "for dirname, _, filenames in os.walk('/kaggle/input'):\n",
    "    for filename in filenames:\n",
    "        print(os.path.join(dirname, filename))\n",
    "\n",
    "# You can write up to 20GB to the current directory (/kaggle/working/) that gets preserved as output when you create a version using \"Save & Run All\" \n",
    "# You can also write temporary files to /kaggle/temp/, but they won't be saved outside of the current session"
   ]
  },
  {
   "cell_type": "code",
   "execution_count": 2,
   "id": "751e36a6",
   "metadata": {
    "execution": {
     "iopub.execute_input": "2025-10-06T17:48:55.308037Z",
     "iopub.status.busy": "2025-10-06T17:48:55.307644Z",
     "iopub.status.idle": "2025-10-06T17:49:07.394320Z",
     "shell.execute_reply": "2025-10-06T17:49:07.393056Z"
    },
    "papermill": {
     "duration": 12.091764,
     "end_time": "2025-10-06T17:49:07.395994",
     "exception": false,
     "start_time": "2025-10-06T17:48:55.304230",
     "status": "completed"
    },
    "tags": []
   },
   "outputs": [
    {
     "name": "stdout",
     "output_type": "stream",
     "text": [
      "Epoch 50, Loss: 0.2427\n",
      "Epoch 100, Loss: 0.2356\n",
      "Epoch 150, Loss: 0.2339\n",
      "Epoch 200, Loss: 0.2330\n",
      "\n",
      "Prediction:\n",
      "Input: 'i love' -> Next word: deep\n",
      "Input: 'love deep' -> Next word: learning\n"
     ]
    }
   ],
   "source": [
    "import torch\n",
    "import torch.nn as nn\n",
    "import numpy as np\n",
    "\n",
    "\n",
    "# Sample Text\n",
    "\n",
    "text = \"I love deep learning and I love pytorch\"\n",
    "\n",
    "# Tokenize\n",
    "tokens = text.lower().split()\n",
    "vocab = {word: idx for idx, word in enumerate(set(tokens))}\n",
    "rev_vocab = {idx: word for word, idx in vocab.items()}\n",
    "vocab_size = len(vocab)\n",
    "\n",
    "# Convert to indices\n",
    "indices = [vocab[w] for w in tokens]\n",
    "\n",
    "# Prepare Dataset\n",
    "seq_len = 2   \n",
    "X, y = [], []\n",
    "\n",
    "for i in range(len(indices) - seq_len):\n",
    "    X.append(indices[i:i+seq_len])   \n",
    "    y.append(indices[i+seq_len])     \n",
    "\n",
    "X = torch.tensor(X)  # shape: (batch, seq_len)\n",
    "y = torch.tensor(y)  # shape: (batch,)\n",
    "\n",
    "# Define RNN Model\n",
    "class RNNModel(nn.Module):\n",
    "    def __init__(self, vocab_size, embed_dim, hidden_dim):\n",
    "        super(RNNModel, self).__init__()\n",
    "        self.embed = nn.Embedding(vocab_size, embed_dim)\n",
    "        self.rnn = nn.RNN(embed_dim, hidden_dim, batch_first=True)\n",
    "        self.fc = nn.Linear(hidden_dim, vocab_size)\n",
    "\n",
    "    def forward(self, x):\n",
    "        x = self.embed(x)                      # (batch, seq_len, embed_dim)\n",
    "        out, hidden = self.rnn(x)              # out: (batch, seq_len, hidden_dim)\n",
    "        out = out[:, -1, :]                   \n",
    "        out = self.fc(out)                     # (batch, vocab_size)\n",
    "        return out\n",
    "\n",
    "# Train Model\n",
    "model = RNNModel(vocab_size, embed_dim=8, hidden_dim=16)\n",
    "criterion = nn.CrossEntropyLoss()\n",
    "optimizer = torch.optim.Adam(model.parameters(), lr=0.01)\n",
    "\n",
    "for epoch in range(200):\n",
    "    optimizer.zero_grad()\n",
    "    output = model(X)\n",
    "    loss = criterion(output, y)\n",
    "    loss.backward()\n",
    "    optimizer.step()\n",
    "    if (epoch+1) % 50 == 0:\n",
    "        print(f\"Epoch {epoch+1}, Loss: {loss.item():.4f}\")\n",
    "\n",
    "# Predict Next Word\n",
    "def predict_next(seq):\n",
    "    model.eval()\n",
    "    seq_idx = torch.tensor([[vocab[w] for w in seq.split()]])\n",
    "    with torch.no_grad():\n",
    "        out = model(seq_idx)\n",
    "        pred_idx = torch.argmax(out, dim=1).item()\n",
    "    return rev_vocab[pred_idx]\n",
    "\n",
    "print(\"\\nPrediction:\")\n",
    "print(\"Input: 'i love' -> Next word:\", predict_next(\"i love\"))\n",
    "print(\"Input: 'love deep' -> Next word:\", predict_next(\"love deep\"))\n"
   ]
  },
  {
   "cell_type": "code",
   "execution_count": 3,
   "id": "6f0a1928",
   "metadata": {
    "execution": {
     "iopub.execute_input": "2025-10-06T17:49:07.403590Z",
     "iopub.status.busy": "2025-10-06T17:49:07.403084Z",
     "iopub.status.idle": "2025-10-06T17:49:07.419106Z",
     "shell.execute_reply": "2025-10-06T17:49:07.418228Z"
    },
    "papermill": {
     "duration": 0.021431,
     "end_time": "2025-10-06T17:49:07.420786",
     "exception": false,
     "start_time": "2025-10-06T17:49:07.399355",
     "status": "completed"
    },
    "tags": []
   },
   "outputs": [
    {
     "data": {
      "text/plain": [
       "tensor([ 4, 15,  1,  7, 10, 13, 11,  5, 12,  8,  9,  0,  3,  2,  6])"
      ]
     },
     "execution_count": 3,
     "metadata": {},
     "output_type": "execute_result"
    }
   ],
   "source": [
    "import torch\n",
    "import torch.nn as nn\n",
    "import numpy as np\n",
    "\n",
    "\n",
    "text=\"My name is Aasif. I am going to be next president of my kingdom. Pray for me\"\n",
    "\n",
    "\n",
    "token=text.lower().split()\n",
    "token\n",
    "type(token)\n",
    "type(set(token))\n",
    "\n",
    "unique={}\n",
    "rev_unique={}\n",
    "for idx, word in enumerate(set(token)):\n",
    "    unique[word]=idx\n",
    "    rev_unique[idx]=word\n",
    "    \n",
    "unique\n",
    "rev_unique\n",
    "\n",
    "indices=[]\n",
    "for i in token:\n",
    "    indices.append(unique[i])\n",
    "indices\n",
    "\n",
    "#make dataset\n",
    "\n",
    "seq_len=2\n",
    "\n",
    "x=[]\n",
    "y=[]\n",
    "\n",
    "for i in range(len(indices)-seq_len):\n",
    "    x.append(indices[i:i+seq_len])\n",
    "    y.append(indices[i+seq_len])\n",
    "x\n",
    "y\n",
    "\n",
    "x=torch.tensor(x)\n",
    "y=torch.tensor(y)\n",
    "x\n",
    "y\n",
    "\n",
    "\n",
    "\n",
    "\n",
    "\n"
   ]
  },
  {
   "cell_type": "code",
   "execution_count": null,
   "id": "c32c9a59",
   "metadata": {
    "papermill": {
     "duration": 0.00272,
     "end_time": "2025-10-06T17:49:07.426628",
     "exception": false,
     "start_time": "2025-10-06T17:49:07.423908",
     "status": "completed"
    },
    "tags": []
   },
   "outputs": [],
   "source": []
  },
  {
   "cell_type": "code",
   "execution_count": 4,
   "id": "801f921f",
   "metadata": {
    "execution": {
     "iopub.execute_input": "2025-10-06T17:49:07.433966Z",
     "iopub.status.busy": "2025-10-06T17:49:07.433632Z",
     "iopub.status.idle": "2025-10-06T17:49:07.439436Z",
     "shell.execute_reply": "2025-10-06T17:49:07.438602Z"
    },
    "papermill": {
     "duration": 0.011484,
     "end_time": "2025-10-06T17:49:07.440899",
     "exception": false,
     "start_time": "2025-10-06T17:49:07.429415",
     "status": "completed"
    },
    "tags": []
   },
   "outputs": [
    {
     "data": {
      "text/plain": [
       "17"
      ]
     },
     "execution_count": 4,
     "metadata": {},
     "output_type": "execute_result"
    }
   ],
   "source": [
    "unique\n",
    "len(indices)"
   ]
  },
  {
   "cell_type": "code",
   "execution_count": 5,
   "id": "b8c1bef3",
   "metadata": {
    "execution": {
     "iopub.execute_input": "2025-10-06T17:49:07.448034Z",
     "iopub.status.busy": "2025-10-06T17:49:07.447686Z",
     "iopub.status.idle": "2025-10-06T17:49:07.465990Z",
     "shell.execute_reply": "2025-10-06T17:49:07.465155Z"
    },
    "papermill": {
     "duration": 0.023899,
     "end_time": "2025-10-06T17:49:07.467778",
     "exception": false,
     "start_time": "2025-10-06T17:49:07.443879",
     "status": "completed"
    },
    "tags": []
   },
   "outputs": [
    {
     "data": {
      "text/plain": [
       "tensor([[-0.2509,  0.5263, -1.0453, -0.7562,  0.7853, -0.2135, -1.1515, -0.6225],\n",
       "        [ 0.4355, -0.2811, -1.3441,  1.4013,  1.2535,  0.2069,  0.9420, -0.7660],\n",
       "        [ 1.1204,  0.9889,  0.2480, -1.1046, -2.6616, -0.5193,  0.5407,  0.8385]],\n",
       "       grad_fn=<EmbeddingBackward0>)"
      ]
     },
     "execution_count": 5,
     "metadata": {},
     "output_type": "execute_result"
    }
   ],
   "source": [
    "import torch\n",
    "import torch.nn as nn\n",
    "\n",
    "text=\"I love cricket very much\"\n",
    "token=text.lower().split()\n",
    "vocab={j:i for i, j in enumerate(set(token))}\n",
    "rev_vocab={i:j for i, j in enumerate(set(token))}\n",
    "unique_total_word=len(set(token))\n",
    "unique_total_word\n",
    "\n",
    "rev_vocab\n",
    "embed_dim=8\n",
    "embedding=nn.Embedding(len(vocab),embed_dim)\n",
    "\n",
    "sample_input=torch.tensor([2,3,1]) # cricket, very, love\n",
    "\n",
    "embed_vector=embedding(sample_input)\n",
    "embed_vector"
   ]
  },
  {
   "cell_type": "code",
   "execution_count": 6,
   "id": "70716095",
   "metadata": {
    "execution": {
     "iopub.execute_input": "2025-10-06T17:49:07.474933Z",
     "iopub.status.busy": "2025-10-06T17:49:07.474646Z",
     "iopub.status.idle": "2025-10-06T17:49:07.481395Z",
     "shell.execute_reply": "2025-10-06T17:49:07.480517Z"
    },
    "papermill": {
     "duration": 0.012367,
     "end_time": "2025-10-06T17:49:07.483145",
     "exception": false,
     "start_time": "2025-10-06T17:49:07.470778",
     "status": "completed"
    },
    "tags": []
   },
   "outputs": [
    {
     "data": {
      "text/plain": [
       "{'i': 0, 'love': 1, 'much': 2, 'cricket': 3, 'very': 4}"
      ]
     },
     "execution_count": 6,
     "metadata": {},
     "output_type": "execute_result"
    }
   ],
   "source": [
    "vocab"
   ]
  },
  {
   "cell_type": "code",
   "execution_count": 7,
   "id": "b0938ef2",
   "metadata": {
    "execution": {
     "iopub.execute_input": "2025-10-06T17:49:07.491273Z",
     "iopub.status.busy": "2025-10-06T17:49:07.490901Z",
     "iopub.status.idle": "2025-10-06T17:49:08.051672Z",
     "shell.execute_reply": "2025-10-06T17:49:08.050606Z"
    },
    "papermill": {
     "duration": 0.567786,
     "end_time": "2025-10-06T17:49:08.054135",
     "exception": false,
     "start_time": "2025-10-06T17:49:07.486349",
     "status": "completed"
    },
    "tags": []
   },
   "outputs": [
    {
     "name": "stdout",
     "output_type": "stream",
     "text": [
      "Epoch 50, Loss = 0.0401\n",
      "Epoch 100, Loss = 0.0341\n",
      "Epoch 150, Loss = 0.0329\n",
      "Epoch 200, Loss = 0.0321\n",
      "\n",
      "Input: substantial poverty → Predicted next word: reduction,\n"
     ]
    }
   ],
   "source": [
    "import torch\n",
    "import torch.nn as nn\n",
    "import torch.optim as optim\n",
    "\n",
    "# -------------------------\n",
    "# 1. Data Preparation (Corrected)\n",
    "# -------------------------\n",
    "text=\"\"\"Sheikh Hasina Wazed (born September 28, 1947) is a prominent Bangladeshi politician and the daughter of the nation's founding father, Sheikh Mujibur Rahman. She served two separate tenures as the tenth Prime Minister of Bangladesh, first from June 1996 to July 2001, and then for four consecutive terms from January 2009 until her resignation in August 2024, making her the longest-serving head of government in the country's history. Hasina's political career began after surviving the 1975 assassination of her family and returning from exile in 1981 to lead the Awami League political party, spearheading the movement to restore democracy. Her later and longest premiership was credited with overseeing significant economic growth, substantial poverty reduction, and massive infrastructure development (such as the Padma Bridge and Dhaka Metro Rail), alongside the implementation of the \"Digital Bangladesh\" vision. However, her final years in power were marred by increasing international and domestic criticism over allegations of authoritarianism, the erosion of democratic institutions, and suppression of political dissent and human rights abuses, ultimately leading to widespread student-led protests that forced her resignation and flight from the country in August 2024.\"\"\"\n",
    "tokens = text.lower().split()\n",
    "vocab = {word: idx for idx, word in enumerate(set(tokens))}\n",
    "rev_vocab = {idx: word for word, idx in vocab.items()}\n",
    "\n",
    "indices = [vocab[w] for w in tokens]\n",
    "\n",
    "# dataset বানাই: sequence -> next word\n",
    "seq_len = 2\n",
    "X, y = [], []\n",
    "for i in range(len(indices) - seq_len):\n",
    "    X.append(indices[i:i+seq_len])   # input sequence\n",
    "    y.append(indices[i+seq_len])     # target word\n",
    "\n",
    "# --- FIX APPLIED HERE ---\n",
    "# X and y must be converted to torch.long (integer type) for nn.Embedding\n",
    "X = torch.tensor(X).long()   # shape: (samples, seq_len)\n",
    "y = torch.tensor(y).long()   # shape: (samples,)\n",
    "# ------------------------\n",
    "\n",
    "# -------------------------\n",
    "# 2. RNN Model\n",
    "# -------------------------\n",
    "class RNNPredictor(nn.Module):\n",
    "    def __init__(self, vocab_size, embed_dim, hidden_dim):\n",
    "        super().__init__()\n",
    "        self.embed = nn.Embedding(vocab_size, embed_dim)\n",
    "        self.rnn = nn.RNN(embed_dim, hidden_dim, batch_first=True)\n",
    "        self.fc = nn.Linear(hidden_dim, vocab_size)\n",
    "\n",
    "    def forward(self, x):\n",
    "        x = self.embed(x)                         # [batch, seq_len, embed_dim]\n",
    "        out, h = self.rnn(x)                      # [batch, seq_len, hidden_dim]\n",
    "        out = out[:, -1, :]                       # last timestep only\n",
    "        out = self.fc(out)                        # [batch, vocab_size]\n",
    "        return out\n",
    "\n",
    "# -------------------------\n",
    "# 3. Training\n",
    "# -------------------------\n",
    "vocab_size = len(vocab)\n",
    "model = RNNPredictor(vocab_size, embed_dim=50, hidden_dim=50)\n",
    "loss_fn = nn.CrossEntropyLoss()\n",
    "optimizer = optim.Adam(model.parameters(), lr=0.01)\n",
    "\n",
    "epochs = 200\n",
    "for epoch in range(epochs):\n",
    "    optimizer.zero_grad()\n",
    "    output = model(X)\n",
    "    loss = loss_fn(output, y)\n",
    "    loss.backward()\n",
    "    optimizer.step()\n",
    "    if (epoch+1) % 50 == 0:\n",
    "        print(f\"Epoch {epoch+1}, Loss = {loss.item():.4f}\")\n",
    "\n",
    "# -------------------------\n",
    "# 4. Prediction Function (Minor change to handle potential unknown words)\n",
    "# -------------------------\n",
    "def predict_next(model, text_seq):\n",
    "    model.eval()\n",
    "    tokens = text_seq.lower().split()\n",
    "    \n",
    "    # Only use words that are in the vocab\n",
    "    idx_seq = [vocab[w] for w in tokens if w in vocab]\n",
    "    \n",
    "    # Check if the sequence length matches the model's seq_len\n",
    "    if len(idx_seq) < seq_len:\n",
    "        print(f\"Error: Input sequence needs at least {seq_len} known words.\")\n",
    "        return \"N/A\"\n",
    "        \n",
    "    idx_seq = idx_seq[-seq_len:] # Use only the last seq_len tokens\n",
    "    \n",
    "    # --- FIX APPLIED HERE ---\n",
    "    # The input tensor must also be cast to torch.long\n",
    "    idx_seq = torch.tensor(idx_seq).unsqueeze(0).long()  # [1, seq_len], ensuring long type\n",
    "    # ------------------------\n",
    "    \n",
    "    with torch.no_grad():\n",
    "        out = model(idx_seq)\n",
    "        pred_idx = torch.argmax(out, dim=1).item()\n",
    "    return rev_vocab[pred_idx]\n",
    "\n",
    "\n",
    "test_seq = \"substantial poverty\" \n",
    "pred_word = predict_next(model, test_seq)\n",
    "print(f\"\\nInput: {test_seq} → Predicted next word: {pred_word}\")"
   ]
  },
  {
   "cell_type": "code",
   "execution_count": null,
   "id": "0dd15c23",
   "metadata": {
    "papermill": {
     "duration": 0.003673,
     "end_time": "2025-10-06T17:49:08.061919",
     "exception": false,
     "start_time": "2025-10-06T17:49:08.058246",
     "status": "completed"
    },
    "tags": []
   },
   "outputs": [],
   "source": []
  }
 ],
 "metadata": {
  "kaggle": {
   "accelerator": "none",
   "dataSources": [],
   "dockerImageVersionId": 31089,
   "isGpuEnabled": false,
   "isInternetEnabled": true,
   "language": "python",
   "sourceType": "notebook"
  },
  "kernelspec": {
   "display_name": "Python 3",
   "language": "python",
   "name": "python3"
  },
  "language_info": {
   "codemirror_mode": {
    "name": "ipython",
    "version": 3
   },
   "file_extension": ".py",
   "mimetype": "text/x-python",
   "name": "python",
   "nbconvert_exporter": "python",
   "pygments_lexer": "ipython3",
   "version": "3.11.13"
  },
  "papermill": {
   "default_parameters": {},
   "duration": 22.650567,
   "end_time": "2025-10-06T17:49:09.990415",
   "environment_variables": {},
   "exception": null,
   "input_path": "__notebook__.ipynb",
   "output_path": "__notebook__.ipynb",
   "parameters": {},
   "start_time": "2025-10-06T17:48:47.339848",
   "version": "2.6.0"
  }
 },
 "nbformat": 4,
 "nbformat_minor": 5
}
