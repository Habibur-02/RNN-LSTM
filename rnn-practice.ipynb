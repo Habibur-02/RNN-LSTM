{
 "cells": [
  {
   "cell_type": "code",
   "execution_count": 1,
   "id": "c1d93797",
   "metadata": {
    "_cell_guid": "b1076dfc-b9ad-4769-8c92-a6c4dae69d19",
    "_uuid": "8f2839f25d086af736a60e9eeb907d3b93b6e0e5",
    "execution": {
     "iopub.execute_input": "2025-10-06T17:01:13.540627Z",
     "iopub.status.busy": "2025-10-06T17:01:13.540307Z",
     "iopub.status.idle": "2025-10-06T17:01:15.454780Z",
     "shell.execute_reply": "2025-10-06T17:01:15.453584Z"
    },
    "papermill": {
     "duration": 1.920442,
     "end_time": "2025-10-06T17:01:15.456709",
     "exception": false,
     "start_time": "2025-10-06T17:01:13.536267",
     "status": "completed"
    },
    "tags": []
   },
   "outputs": [],
   "source": [
    "# This Python 3 environment comes with many helpful analytics libraries installed\n",
    "# It is defined by the kaggle/python Docker image: https://github.com/kaggle/docker-python\n",
    "# For example, here's several helpful packages to load\n",
    "\n",
    "import numpy as np # linear algebra\n",
    "import pandas as pd # data processing, CSV file I/O (e.g. pd.read_csv)\n",
    "\n",
    "# Input data files are available in the read-only \"../input/\" directory\n",
    "# For example, running this (by clicking run or pressing Shift+Enter) will list all files under the input directory\n",
    "\n",
    "import os\n",
    "for dirname, _, filenames in os.walk('/kaggle/input'):\n",
    "    for filename in filenames:\n",
    "        print(os.path.join(dirname, filename))\n",
    "\n",
    "# You can write up to 20GB to the current directory (/kaggle/working/) that gets preserved as output when you create a version using \"Save & Run All\" \n",
    "# You can also write temporary files to /kaggle/temp/, but they won't be saved outside of the current session"
   ]
  },
  {
   "cell_type": "code",
   "execution_count": 2,
   "id": "b9a7a2d4",
   "metadata": {
    "execution": {
     "iopub.execute_input": "2025-10-06T17:01:15.463080Z",
     "iopub.status.busy": "2025-10-06T17:01:15.462644Z",
     "iopub.status.idle": "2025-10-06T17:01:27.046783Z",
     "shell.execute_reply": "2025-10-06T17:01:27.045647Z"
    },
    "papermill": {
     "duration": 11.589036,
     "end_time": "2025-10-06T17:01:27.048407",
     "exception": false,
     "start_time": "2025-10-06T17:01:15.459371",
     "status": "completed"
    },
    "tags": []
   },
   "outputs": [
    {
     "name": "stdout",
     "output_type": "stream",
     "text": [
      "Epoch 50, Loss: 0.2454\n",
      "Epoch 100, Loss: 0.2365\n",
      "Epoch 150, Loss: 0.2344\n",
      "Epoch 200, Loss: 0.2334\n",
      "\n",
      "Prediction:\n",
      "Input: 'i love' -> Next word: deep\n",
      "Input: 'love deep' -> Next word: learning\n"
     ]
    }
   ],
   "source": [
    "import torch\n",
    "import torch.nn as nn\n",
    "import numpy as np\n",
    "\n",
    "\n",
    "# Sample Text\n",
    "\n",
    "text = \"I love deep learning and I love pytorch\"\n",
    "\n",
    "# Tokenize\n",
    "tokens = text.lower().split()\n",
    "vocab = {word: idx for idx, word in enumerate(set(tokens))}\n",
    "rev_vocab = {idx: word for word, idx in vocab.items()}\n",
    "vocab_size = len(vocab)\n",
    "\n",
    "# Convert to indices\n",
    "indices = [vocab[w] for w in tokens]\n",
    "\n",
    "# Prepare Dataset\n",
    "seq_len = 2   \n",
    "X, y = [], []\n",
    "\n",
    "for i in range(len(indices) - seq_len):\n",
    "    X.append(indices[i:i+seq_len])   \n",
    "    y.append(indices[i+seq_len])     \n",
    "\n",
    "X = torch.tensor(X)  # shape: (batch, seq_len)\n",
    "y = torch.tensor(y)  # shape: (batch,)\n",
    "\n",
    "# Define RNN Model\n",
    "class RNNModel(nn.Module):\n",
    "    def __init__(self, vocab_size, embed_dim, hidden_dim):\n",
    "        super(RNNModel, self).__init__()\n",
    "        self.embed = nn.Embedding(vocab_size, embed_dim)\n",
    "        self.rnn = nn.RNN(embed_dim, hidden_dim, batch_first=True)\n",
    "        self.fc = nn.Linear(hidden_dim, vocab_size)\n",
    "\n",
    "    def forward(self, x):\n",
    "        x = self.embed(x)                      # (batch, seq_len, embed_dim)\n",
    "        out, hidden = self.rnn(x)              # out: (batch, seq_len, hidden_dim)\n",
    "        out = out[:, -1, :]                   \n",
    "        out = self.fc(out)                     # (batch, vocab_size)\n",
    "        return out\n",
    "\n",
    "# Train Model\n",
    "model = RNNModel(vocab_size, embed_dim=8, hidden_dim=16)\n",
    "criterion = nn.CrossEntropyLoss()\n",
    "optimizer = torch.optim.Adam(model.parameters(), lr=0.01)\n",
    "\n",
    "for epoch in range(200):\n",
    "    optimizer.zero_grad()\n",
    "    output = model(X)\n",
    "    loss = criterion(output, y)\n",
    "    loss.backward()\n",
    "    optimizer.step()\n",
    "    if (epoch+1) % 50 == 0:\n",
    "        print(f\"Epoch {epoch+1}, Loss: {loss.item():.4f}\")\n",
    "\n",
    "# Predict Next Word\n",
    "def predict_next(seq):\n",
    "    model.eval()\n",
    "    seq_idx = torch.tensor([[vocab[w] for w in seq.split()]])\n",
    "    with torch.no_grad():\n",
    "        out = model(seq_idx)\n",
    "        pred_idx = torch.argmax(out, dim=1).item()\n",
    "    return rev_vocab[pred_idx]\n",
    "\n",
    "print(\"\\nPrediction:\")\n",
    "print(\"Input: 'i love' -> Next word:\", predict_next(\"i love\"))\n",
    "print(\"Input: 'love deep' -> Next word:\", predict_next(\"love deep\"))\n"
   ]
  },
  {
   "cell_type": "code",
   "execution_count": 3,
   "id": "5aac93d9",
   "metadata": {
    "execution": {
     "iopub.execute_input": "2025-10-06T17:01:27.054329Z",
     "iopub.status.busy": "2025-10-06T17:01:27.053868Z",
     "iopub.status.idle": "2025-10-06T17:01:27.070300Z",
     "shell.execute_reply": "2025-10-06T17:01:27.069204Z"
    },
    "papermill": {
     "duration": 0.021615,
     "end_time": "2025-10-06T17:01:27.072354",
     "exception": false,
     "start_time": "2025-10-06T17:01:27.050739",
     "status": "completed"
    },
    "tags": []
   },
   "outputs": [
    {
     "data": {
      "text/plain": [
       "tensor([ 4,  3,  2,  1, 12, 11,  5,  8, 15, 13,  7,  9, 14, 10,  0])"
      ]
     },
     "execution_count": 3,
     "metadata": {},
     "output_type": "execute_result"
    }
   ],
   "source": [
    "import torch\n",
    "import torch.nn as nn\n",
    "import numpy as np\n",
    "\n",
    "\n",
    "text=\"My name is Aasif. I am going to be next president of my kingdom. Pray for me\"\n",
    "\n",
    "\n",
    "token=text.lower().split()\n",
    "token\n",
    "type(token)\n",
    "type(set(token))\n",
    "\n",
    "unique={}\n",
    "rev_unique={}\n",
    "for idx, word in enumerate(set(token)):\n",
    "    unique[word]=idx\n",
    "    rev_unique[idx]=word\n",
    "    \n",
    "unique\n",
    "rev_unique\n",
    "\n",
    "indices=[]\n",
    "for i in token:\n",
    "    indices.append(unique[i])\n",
    "indices\n",
    "\n",
    "#make dataset\n",
    "\n",
    "seq_len=2\n",
    "\n",
    "x=[]\n",
    "y=[]\n",
    "\n",
    "for i in range(len(indices)-seq_len):\n",
    "    x.append(indices[i:i+seq_len])\n",
    "    y.append(indices[i+seq_len])\n",
    "x\n",
    "y\n",
    "\n",
    "x=torch.tensor(x)\n",
    "y=torch.tensor(y)\n",
    "x\n",
    "y\n",
    "\n",
    "\n",
    "\n",
    "\n"
   ]
  },
  {
   "cell_type": "code",
   "execution_count": null,
   "id": "f7e3d479",
   "metadata": {
    "papermill": {
     "duration": 0.002126,
     "end_time": "2025-10-06T17:01:27.077125",
     "exception": false,
     "start_time": "2025-10-06T17:01:27.074999",
     "status": "completed"
    },
    "tags": []
   },
   "outputs": [],
   "source": []
  },
  {
   "cell_type": "code",
   "execution_count": 4,
   "id": "315f8b45",
   "metadata": {
    "execution": {
     "iopub.execute_input": "2025-10-06T17:01:27.083553Z",
     "iopub.status.busy": "2025-10-06T17:01:27.083197Z",
     "iopub.status.idle": "2025-10-06T17:01:27.089156Z",
     "shell.execute_reply": "2025-10-06T17:01:27.088179Z"
    },
    "papermill": {
     "duration": 0.011006,
     "end_time": "2025-10-06T17:01:27.090655",
     "exception": false,
     "start_time": "2025-10-06T17:01:27.079649",
     "status": "completed"
    },
    "tags": []
   },
   "outputs": [
    {
     "data": {
      "text/plain": [
       "17"
      ]
     },
     "execution_count": 4,
     "metadata": {},
     "output_type": "execute_result"
    }
   ],
   "source": [
    "unique\n",
    "len(indices)"
   ]
  },
  {
   "cell_type": "code",
   "execution_count": 5,
   "id": "e6903f3d",
   "metadata": {
    "execution": {
     "iopub.execute_input": "2025-10-06T17:01:27.096999Z",
     "iopub.status.busy": "2025-10-06T17:01:27.096443Z",
     "iopub.status.idle": "2025-10-06T17:01:27.115430Z",
     "shell.execute_reply": "2025-10-06T17:01:27.114371Z"
    },
    "papermill": {
     "duration": 0.024068,
     "end_time": "2025-10-06T17:01:27.117273",
     "exception": false,
     "start_time": "2025-10-06T17:01:27.093205",
     "status": "completed"
    },
    "tags": []
   },
   "outputs": [
    {
     "data": {
      "text/plain": [
       "tensor([[ 0.7798,  0.0522,  0.1276,  0.7883,  2.2612, -0.2042,  0.4188,  1.3384],\n",
       "        [ 0.0538,  1.2340,  0.9013, -1.8979, -0.5951,  1.9275,  2.7614,  0.0336],\n",
       "        [-0.6741,  0.6677,  0.1701,  0.7275,  0.2989,  1.8719, -0.5586, -0.3986]],\n",
       "       grad_fn=<EmbeddingBackward0>)"
      ]
     },
     "execution_count": 5,
     "metadata": {},
     "output_type": "execute_result"
    }
   ],
   "source": [
    "import torch\n",
    "import torch.nn as nn\n",
    "\n",
    "text=\"I love cricket very much\"\n",
    "token=text.lower().split()\n",
    "vocab={j:i for i, j in enumerate(set(token))}\n",
    "rev_vocab={i:j for i, j in enumerate(set(token))}\n",
    "unique_total_word=len(set(token))\n",
    "unique_total_word\n",
    "\n",
    "rev_vocab\n",
    "embed_dim=8\n",
    "embedding=nn.Embedding(len(vocab),embed_dim)\n",
    "\n",
    "sample_input=torch.tensor([2,3,1]) # cricket, very, love\n",
    "\n",
    "embed_vector=embedding(sample_input)\n",
    "embed_vector"
   ]
  },
  {
   "cell_type": "code",
   "execution_count": 6,
   "id": "a14de493",
   "metadata": {
    "execution": {
     "iopub.execute_input": "2025-10-06T17:01:27.123679Z",
     "iopub.status.busy": "2025-10-06T17:01:27.123371Z",
     "iopub.status.idle": "2025-10-06T17:01:27.128813Z",
     "shell.execute_reply": "2025-10-06T17:01:27.127973Z"
    },
    "papermill": {
     "duration": 0.010207,
     "end_time": "2025-10-06T17:01:27.130184",
     "exception": false,
     "start_time": "2025-10-06T17:01:27.119977",
     "status": "completed"
    },
    "tags": []
   },
   "outputs": [
    {
     "data": {
      "text/plain": [
       "{'very': 0, 'love': 1, 'i': 2, 'cricket': 3, 'much': 4}"
      ]
     },
     "execution_count": 6,
     "metadata": {},
     "output_type": "execute_result"
    }
   ],
   "source": [
    "vocab"
   ]
  }
 ],
 "metadata": {
  "kaggle": {
   "accelerator": "none",
   "dataSources": [],
   "dockerImageVersionId": 31089,
   "isGpuEnabled": false,
   "isInternetEnabled": true,
   "language": "python",
   "sourceType": "notebook"
  },
  "kernelspec": {
   "display_name": "Python 3",
   "language": "python",
   "name": "python3"
  },
  "language_info": {
   "codemirror_mode": {
    "name": "ipython",
    "version": 3
   },
   "file_extension": ".py",
   "mimetype": "text/x-python",
   "name": "python",
   "nbconvert_exporter": "python",
   "pygments_lexer": "ipython3",
   "version": "3.11.13"
  },
  "papermill": {
   "default_parameters": {},
   "duration": 21.728525,
   "end_time": "2025-10-06T17:01:29.610398",
   "environment_variables": {},
   "exception": null,
   "input_path": "__notebook__.ipynb",
   "output_path": "__notebook__.ipynb",
   "parameters": {},
   "start_time": "2025-10-06T17:01:07.881873",
   "version": "2.6.0"
  }
 },
 "nbformat": 4,
 "nbformat_minor": 5
}
