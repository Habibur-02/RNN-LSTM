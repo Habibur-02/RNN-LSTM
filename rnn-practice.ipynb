{
 "cells": [
  {
   "cell_type": "code",
   "execution_count": 1,
   "id": "c6279bb1",
   "metadata": {
    "_cell_guid": "b1076dfc-b9ad-4769-8c92-a6c4dae69d19",
    "_uuid": "8f2839f25d086af736a60e9eeb907d3b93b6e0e5",
    "execution": {
     "iopub.execute_input": "2025-10-06T16:56:19.481300Z",
     "iopub.status.busy": "2025-10-06T16:56:19.480942Z",
     "iopub.status.idle": "2025-10-06T16:56:21.457520Z",
     "shell.execute_reply": "2025-10-06T16:56:21.456476Z"
    },
    "papermill": {
     "duration": 1.983061,
     "end_time": "2025-10-06T16:56:21.459519",
     "exception": false,
     "start_time": "2025-10-06T16:56:19.476458",
     "status": "completed"
    },
    "tags": []
   },
   "outputs": [],
   "source": [
    "# This Python 3 environment comes with many helpful analytics libraries installed\n",
    "# It is defined by the kaggle/python Docker image: https://github.com/kaggle/docker-python\n",
    "# For example, here's several helpful packages to load\n",
    "\n",
    "import numpy as np # linear algebra\n",
    "import pandas as pd # data processing, CSV file I/O (e.g. pd.read_csv)\n",
    "\n",
    "# Input data files are available in the read-only \"../input/\" directory\n",
    "# For example, running this (by clicking run or pressing Shift+Enter) will list all files under the input directory\n",
    "\n",
    "import os\n",
    "for dirname, _, filenames in os.walk('/kaggle/input'):\n",
    "    for filename in filenames:\n",
    "        print(os.path.join(dirname, filename))\n",
    "\n",
    "# You can write up to 20GB to the current directory (/kaggle/working/) that gets preserved as output when you create a version using \"Save & Run All\" \n",
    "# You can also write temporary files to /kaggle/temp/, but they won't be saved outside of the current session"
   ]
  },
  {
   "cell_type": "code",
   "execution_count": 2,
   "id": "714ccf9f",
   "metadata": {
    "execution": {
     "iopub.execute_input": "2025-10-06T16:56:21.465715Z",
     "iopub.status.busy": "2025-10-06T16:56:21.465266Z",
     "iopub.status.idle": "2025-10-06T16:56:33.457247Z",
     "shell.execute_reply": "2025-10-06T16:56:33.456082Z"
    },
    "papermill": {
     "duration": 11.996509,
     "end_time": "2025-10-06T16:56:33.458696",
     "exception": false,
     "start_time": "2025-10-06T16:56:21.462187",
     "status": "completed"
    },
    "tags": []
   },
   "outputs": [
    {
     "name": "stdout",
     "output_type": "stream",
     "text": [
      "Epoch 50, Loss: 0.2422\n",
      "Epoch 100, Loss: 0.2357\n",
      "Epoch 150, Loss: 0.2339\n",
      "Epoch 200, Loss: 0.2330\n",
      "\n",
      "Prediction:\n",
      "Input: 'i love' -> Next word: deep\n",
      "Input: 'love deep' -> Next word: learning\n"
     ]
    }
   ],
   "source": [
    "import torch\n",
    "import torch.nn as nn\n",
    "import numpy as np\n",
    "\n",
    "# ---------------------------\n",
    "# Sample Text\n",
    "# ---------------------------\n",
    "text = \"I love deep learning and I love pytorch\"\n",
    "\n",
    "# Tokenize\n",
    "tokens = text.lower().split()\n",
    "vocab = {word: idx for idx, word in enumerate(set(tokens))}\n",
    "rev_vocab = {idx: word for word, idx in vocab.items()}\n",
    "vocab_size = len(vocab)\n",
    "\n",
    "# Convert to indices\n",
    "indices = [vocab[w] for w in tokens]\n",
    "\n",
    "# ---------------------------\n",
    "# Prepare Dataset\n",
    "# ---------------------------\n",
    "seq_len = 2   # দুইটা শব্দ ইনপুট দিয়ে, পরের শব্দ predict করব\n",
    "X, y = [], []\n",
    "\n",
    "for i in range(len(indices) - seq_len):\n",
    "    X.append(indices[i:i+seq_len])   # ইনপুট sequence\n",
    "    y.append(indices[i+seq_len])     # টার্গেট (next word)\n",
    "\n",
    "X = torch.tensor(X)  # shape: (batch, seq_len)\n",
    "y = torch.tensor(y)  # shape: (batch,)\n",
    "\n",
    "# ---------------------------\n",
    "# Define RNN Model\n",
    "# ---------------------------\n",
    "class RNNModel(nn.Module):\n",
    "    def __init__(self, vocab_size, embed_dim, hidden_dim):\n",
    "        super(RNNModel, self).__init__()\n",
    "        self.embed = nn.Embedding(vocab_size, embed_dim)\n",
    "        self.rnn = nn.RNN(embed_dim, hidden_dim, batch_first=True)\n",
    "        self.fc = nn.Linear(hidden_dim, vocab_size)\n",
    "\n",
    "    def forward(self, x):\n",
    "        x = self.embed(x)                      # (batch, seq_len, embed_dim)\n",
    "        out, hidden = self.rnn(x)              # out: (batch, seq_len, hidden_dim)\n",
    "        out = out[:, -1, :]                    # শুধু শেষ শব্দের hidden state নিলাম\n",
    "        out = self.fc(out)                     # (batch, vocab_size)\n",
    "        return out\n",
    "\n",
    "# ---------------------------\n",
    "# Train Model\n",
    "# ---------------------------\n",
    "model = RNNModel(vocab_size, embed_dim=8, hidden_dim=16)\n",
    "criterion = nn.CrossEntropyLoss()\n",
    "optimizer = torch.optim.Adam(model.parameters(), lr=0.01)\n",
    "\n",
    "for epoch in range(200):\n",
    "    optimizer.zero_grad()\n",
    "    output = model(X)\n",
    "    loss = criterion(output, y)\n",
    "    loss.backward()\n",
    "    optimizer.step()\n",
    "    if (epoch+1) % 50 == 0:\n",
    "        print(f\"Epoch {epoch+1}, Loss: {loss.item():.4f}\")\n",
    "\n",
    "# ---------------------------\n",
    "# Predict Next Word\n",
    "# ---------------------------\n",
    "def predict_next(seq):\n",
    "    model.eval()\n",
    "    seq_idx = torch.tensor([[vocab[w] for w in seq.split()]])\n",
    "    with torch.no_grad():\n",
    "        out = model(seq_idx)\n",
    "        pred_idx = torch.argmax(out, dim=1).item()\n",
    "    return rev_vocab[pred_idx]\n",
    "\n",
    "# Test Prediction\n",
    "print(\"\\nPrediction:\")\n",
    "print(\"Input: 'i love' -> Next word:\", predict_next(\"i love\"))\n",
    "print(\"Input: 'love deep' -> Next word:\", predict_next(\"love deep\"))\n"
   ]
  },
  {
   "cell_type": "code",
   "execution_count": 3,
   "id": "f874cdae",
   "metadata": {
    "execution": {
     "iopub.execute_input": "2025-10-06T16:56:33.465849Z",
     "iopub.status.busy": "2025-10-06T16:56:33.464475Z",
     "iopub.status.idle": "2025-10-06T16:56:33.481310Z",
     "shell.execute_reply": "2025-10-06T16:56:33.480332Z"
    },
    "papermill": {
     "duration": 0.021887,
     "end_time": "2025-10-06T16:56:33.483108",
     "exception": false,
     "start_time": "2025-10-06T16:56:33.461221",
     "status": "completed"
    },
    "tags": []
   },
   "outputs": [
    {
     "data": {
      "text/plain": [
       "tensor([11, 15,  0,  9,  4,  3,  7, 12, 13,  8,  2,  5,  6,  1, 10])"
      ]
     },
     "execution_count": 3,
     "metadata": {},
     "output_type": "execute_result"
    }
   ],
   "source": [
    "import torch\n",
    "import torch.nn as nn\n",
    "import numpy as np\n",
    "\n",
    "\n",
    "text=\"My name is Aasif. I am going to be next president of my kingdom. Pray for me\"\n",
    "\n",
    "\n",
    "token=text.lower().split()\n",
    "token\n",
    "type(token)\n",
    "type(set(token))\n",
    "\n",
    "unique={}\n",
    "rev_unique={}\n",
    "for idx, word in enumerate(set(token)):\n",
    "    unique[word]=idx\n",
    "    rev_unique[idx]=word\n",
    "    \n",
    "unique\n",
    "rev_unique\n",
    "\n",
    "indices=[]\n",
    "for i in token:\n",
    "    indices.append(unique[i])\n",
    "indices\n",
    "\n",
    "#make dataset\n",
    "\n",
    "seq_len=2\n",
    "\n",
    "x=[]\n",
    "y=[]\n",
    "\n",
    "for i in range(len(indices)-seq_len):\n",
    "    x.append(indices[i:i+seq_len])\n",
    "    y.append(indices[i+seq_len])\n",
    "x\n",
    "y\n",
    "\n",
    "x=torch.tensor(x)\n",
    "y=torch.tensor(y)\n",
    "x\n",
    "y\n",
    "\n",
    "\n",
    "\n"
   ]
  },
  {
   "cell_type": "code",
   "execution_count": null,
   "id": "36e4805b",
   "metadata": {
    "papermill": {
     "duration": 0.002123,
     "end_time": "2025-10-06T16:56:33.487961",
     "exception": false,
     "start_time": "2025-10-06T16:56:33.485838",
     "status": "completed"
    },
    "tags": []
   },
   "outputs": [],
   "source": []
  },
  {
   "cell_type": "code",
   "execution_count": 4,
   "id": "684a9dbf",
   "metadata": {
    "execution": {
     "iopub.execute_input": "2025-10-06T16:56:33.494377Z",
     "iopub.status.busy": "2025-10-06T16:56:33.493457Z",
     "iopub.status.idle": "2025-10-06T16:56:33.499825Z",
     "shell.execute_reply": "2025-10-06T16:56:33.498688Z"
    },
    "papermill": {
     "duration": 0.011304,
     "end_time": "2025-10-06T16:56:33.501493",
     "exception": false,
     "start_time": "2025-10-06T16:56:33.490189",
     "status": "completed"
    },
    "tags": []
   },
   "outputs": [
    {
     "data": {
      "text/plain": [
       "17"
      ]
     },
     "execution_count": 4,
     "metadata": {},
     "output_type": "execute_result"
    }
   ],
   "source": [
    "unique\n",
    "len(indices)"
   ]
  },
  {
   "cell_type": "code",
   "execution_count": 5,
   "id": "82e35f35",
   "metadata": {
    "execution": {
     "iopub.execute_input": "2025-10-06T16:56:33.507775Z",
     "iopub.status.busy": "2025-10-06T16:56:33.507411Z",
     "iopub.status.idle": "2025-10-06T16:56:33.525736Z",
     "shell.execute_reply": "2025-10-06T16:56:33.524491Z"
    },
    "papermill": {
     "duration": 0.023351,
     "end_time": "2025-10-06T16:56:33.527388",
     "exception": false,
     "start_time": "2025-10-06T16:56:33.504037",
     "status": "completed"
    },
    "tags": []
   },
   "outputs": [
    {
     "data": {
      "text/plain": [
       "tensor([[ 1.9565,  0.4390,  1.2910, -0.4908, -1.2375,  0.6936,  2.3536, -0.1193],\n",
       "        [-0.3222,  1.1165,  0.6353, -0.3947, -0.2491, -1.2837,  1.1582,  0.1835],\n",
       "        [-0.4972,  0.9085,  1.2105, -1.1748,  2.0148,  0.2302, -0.6271, -0.7008]],\n",
       "       grad_fn=<EmbeddingBackward0>)"
      ]
     },
     "execution_count": 5,
     "metadata": {},
     "output_type": "execute_result"
    }
   ],
   "source": [
    "import torch\n",
    "import torch.nn as nn\n",
    "\n",
    "text=\"I love cricket very much\"\n",
    "token=text.lower().split()\n",
    "vocab={j:i for i, j in enumerate(set(token))}\n",
    "rev_vocab={i:j for i, j in enumerate(set(token))}\n",
    "unique_total_word=len(set(token))\n",
    "unique_total_word\n",
    "\n",
    "rev_vocab\n",
    "embed_dim=8\n",
    "embedding=nn.Embedding(len(vocab),embed_dim)\n",
    "\n",
    "sample_input=torch.tensor([2,3,1]) # cricket, very, love\n",
    "\n",
    "embed_vector=embedding(sample_input)\n",
    "embed_vector"
   ]
  },
  {
   "cell_type": "code",
   "execution_count": 6,
   "id": "94d2d316",
   "metadata": {
    "execution": {
     "iopub.execute_input": "2025-10-06T16:56:33.534908Z",
     "iopub.status.busy": "2025-10-06T16:56:33.533944Z",
     "iopub.status.idle": "2025-10-06T16:56:33.540729Z",
     "shell.execute_reply": "2025-10-06T16:56:33.539631Z"
    },
    "papermill": {
     "duration": 0.012041,
     "end_time": "2025-10-06T16:56:33.542337",
     "exception": false,
     "start_time": "2025-10-06T16:56:33.530296",
     "status": "completed"
    },
    "tags": []
   },
   "outputs": [
    {
     "data": {
      "text/plain": [
       "{'i': 0, 'cricket': 1, 'very': 2, 'much': 3, 'love': 4}"
      ]
     },
     "execution_count": 6,
     "metadata": {},
     "output_type": "execute_result"
    }
   ],
   "source": [
    "vocab"
   ]
  }
 ],
 "metadata": {
  "kaggle": {
   "accelerator": "none",
   "dataSources": [],
   "dockerImageVersionId": 31089,
   "isGpuEnabled": false,
   "isInternetEnabled": true,
   "language": "python",
   "sourceType": "notebook"
  },
  "kernelspec": {
   "display_name": "Python 3",
   "language": "python",
   "name": "python3"
  },
  "language_info": {
   "codemirror_mode": {
    "name": "ipython",
    "version": 3
   },
   "file_extension": ".py",
   "mimetype": "text/x-python",
   "name": "python",
   "nbconvert_exporter": "python",
   "pygments_lexer": "ipython3",
   "version": "3.11.13"
  },
  "papermill": {
   "default_parameters": {},
   "duration": 22.690684,
   "end_time": "2025-10-06T16:56:36.576141",
   "environment_variables": {},
   "exception": null,
   "input_path": "__notebook__.ipynb",
   "output_path": "__notebook__.ipynb",
   "parameters": {},
   "start_time": "2025-10-06T16:56:13.885457",
   "version": "2.6.0"
  }
 },
 "nbformat": 4,
 "nbformat_minor": 5
}
