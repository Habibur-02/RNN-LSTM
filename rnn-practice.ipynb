{
 "cells": [
  {
   "cell_type": "code",
   "execution_count": 1,
   "id": "77138802",
   "metadata": {
    "_cell_guid": "b1076dfc-b9ad-4769-8c92-a6c4dae69d19",
    "_uuid": "8f2839f25d086af736a60e9eeb907d3b93b6e0e5",
    "execution": {
     "iopub.execute_input": "2025-10-06T16:21:47.973074Z",
     "iopub.status.busy": "2025-10-06T16:21:47.972738Z",
     "iopub.status.idle": "2025-10-06T16:21:49.865568Z",
     "shell.execute_reply": "2025-10-06T16:21:49.864676Z"
    },
    "papermill": {
     "duration": 1.898153,
     "end_time": "2025-10-06T16:21:49.867353",
     "exception": false,
     "start_time": "2025-10-06T16:21:47.969200",
     "status": "completed"
    },
    "tags": []
   },
   "outputs": [],
   "source": [
    "# This Python 3 environment comes with many helpful analytics libraries installed\n",
    "# It is defined by the kaggle/python Docker image: https://github.com/kaggle/docker-python\n",
    "# For example, here's several helpful packages to load\n",
    "\n",
    "import numpy as np # linear algebra\n",
    "import pandas as pd # data processing, CSV file I/O (e.g. pd.read_csv)\n",
    "\n",
    "# Input data files are available in the read-only \"../input/\" directory\n",
    "# For example, running this (by clicking run or pressing Shift+Enter) will list all files under the input directory\n",
    "\n",
    "import os\n",
    "for dirname, _, filenames in os.walk('/kaggle/input'):\n",
    "    for filename in filenames:\n",
    "        print(os.path.join(dirname, filename))\n",
    "\n",
    "# You can write up to 20GB to the current directory (/kaggle/working/) that gets preserved as output when you create a version using \"Save & Run All\" \n",
    "# You can also write temporary files to /kaggle/temp/, but they won't be saved outside of the current session"
   ]
  },
  {
   "cell_type": "code",
   "execution_count": 2,
   "id": "6a1aec3a",
   "metadata": {
    "execution": {
     "iopub.execute_input": "2025-10-06T16:21:49.873092Z",
     "iopub.status.busy": "2025-10-06T16:21:49.872683Z",
     "iopub.status.idle": "2025-10-06T16:22:01.161499Z",
     "shell.execute_reply": "2025-10-06T16:22:01.160332Z"
    },
    "papermill": {
     "duration": 11.293436,
     "end_time": "2025-10-06T16:22:01.163040",
     "exception": false,
     "start_time": "2025-10-06T16:21:49.869604",
     "status": "completed"
    },
    "tags": []
   },
   "outputs": [
    {
     "name": "stdout",
     "output_type": "stream",
     "text": [
      "Epoch 50, Loss: 0.2447\n",
      "Epoch 100, Loss: 0.2356\n",
      "Epoch 150, Loss: 0.2337\n",
      "Epoch 200, Loss: 0.2329\n",
      "\n",
      "Prediction:\n",
      "Input: 'i love' -> Next word: deep\n",
      "Input: 'love deep' -> Next word: learning\n"
     ]
    }
   ],
   "source": [
    "import torch\n",
    "import torch.nn as nn\n",
    "import numpy as np\n",
    "\n",
    "# ---------------------------\n",
    "# Sample Text\n",
    "# ---------------------------\n",
    "text = \"I love deep learning and I love pytorch\"\n",
    "\n",
    "# Tokenize\n",
    "tokens = text.lower().split()\n",
    "vocab = {word: idx for idx, word in enumerate(set(tokens))}\n",
    "rev_vocab = {idx: word for word, idx in vocab.items()}\n",
    "vocab_size = len(vocab)\n",
    "\n",
    "# Convert to indices\n",
    "indices = [vocab[w] for w in tokens]\n",
    "\n",
    "# ---------------------------\n",
    "# Prepare Dataset\n",
    "# ---------------------------\n",
    "seq_len = 2   # দুইটা শব্দ ইনপুট দিয়ে, পরের শব্দ predict করব\n",
    "X, y = [], []\n",
    "\n",
    "for i in range(len(indices) - seq_len):\n",
    "    X.append(indices[i:i+seq_len])   # ইনপুট sequence\n",
    "    y.append(indices[i+seq_len])     # টার্গেট (next word)\n",
    "\n",
    "X = torch.tensor(X)  # shape: (batch, seq_len)\n",
    "y = torch.tensor(y)  # shape: (batch,)\n",
    "\n",
    "# ---------------------------\n",
    "# Define RNN Model\n",
    "# ---------------------------\n",
    "class RNNModel(nn.Module):\n",
    "    def __init__(self, vocab_size, embed_dim, hidden_dim):\n",
    "        super(RNNModel, self).__init__()\n",
    "        self.embed = nn.Embedding(vocab_size, embed_dim)\n",
    "        self.rnn = nn.RNN(embed_dim, hidden_dim, batch_first=True)\n",
    "        self.fc = nn.Linear(hidden_dim, vocab_size)\n",
    "\n",
    "    def forward(self, x):\n",
    "        x = self.embed(x)                      # (batch, seq_len, embed_dim)\n",
    "        out, hidden = self.rnn(x)              # out: (batch, seq_len, hidden_dim)\n",
    "        out = out[:, -1, :]                    # শুধু শেষ শব্দের hidden state নিলাম\n",
    "        out = self.fc(out)                     # (batch, vocab_size)\n",
    "        return out\n",
    "\n",
    "# ---------------------------\n",
    "# Train Model\n",
    "# ---------------------------\n",
    "model = RNNModel(vocab_size, embed_dim=8, hidden_dim=16)\n",
    "criterion = nn.CrossEntropyLoss()\n",
    "optimizer = torch.optim.Adam(model.parameters(), lr=0.01)\n",
    "\n",
    "for epoch in range(200):\n",
    "    optimizer.zero_grad()\n",
    "    output = model(X)\n",
    "    loss = criterion(output, y)\n",
    "    loss.backward()\n",
    "    optimizer.step()\n",
    "    if (epoch+1) % 50 == 0:\n",
    "        print(f\"Epoch {epoch+1}, Loss: {loss.item():.4f}\")\n",
    "\n",
    "# ---------------------------\n",
    "# Predict Next Word\n",
    "# ---------------------------\n",
    "def predict_next(seq):\n",
    "    model.eval()\n",
    "    seq_idx = torch.tensor([[vocab[w] for w in seq.split()]])\n",
    "    with torch.no_grad():\n",
    "        out = model(seq_idx)\n",
    "        pred_idx = torch.argmax(out, dim=1).item()\n",
    "    return rev_vocab[pred_idx]\n",
    "\n",
    "# Test Prediction\n",
    "print(\"\\nPrediction:\")\n",
    "print(\"Input: 'i love' -> Next word:\", predict_next(\"i love\"))\n",
    "print(\"Input: 'love deep' -> Next word:\", predict_next(\"love deep\"))\n"
   ]
  },
  {
   "cell_type": "code",
   "execution_count": 3,
   "id": "05a6bfd1",
   "metadata": {
    "execution": {
     "iopub.execute_input": "2025-10-06T16:22:01.168378Z",
     "iopub.status.busy": "2025-10-06T16:22:01.167918Z",
     "iopub.status.idle": "2025-10-06T16:22:01.175993Z",
     "shell.execute_reply": "2025-10-06T16:22:01.175176Z"
    },
    "papermill": {
     "duration": 0.012344,
     "end_time": "2025-10-06T16:22:01.177411",
     "exception": false,
     "start_time": "2025-10-06T16:22:01.165067",
     "status": "completed"
    },
    "tags": []
   },
   "outputs": [
    {
     "data": {
      "text/plain": [
       "{0: 'aasif.',\n",
       " 1: 'me',\n",
       " 2: 'kingdom.',\n",
       " 3: 'of',\n",
       " 4: 'next',\n",
       " 5: 'am',\n",
       " 6: 'pray',\n",
       " 7: 'president',\n",
       " 8: 'my',\n",
       " 9: 'be',\n",
       " 10: 'going',\n",
       " 11: 'i',\n",
       " 12: 'for',\n",
       " 13: 'name',\n",
       " 14: 'is',\n",
       " 15: 'to'}"
      ]
     },
     "execution_count": 3,
     "metadata": {},
     "output_type": "execute_result"
    }
   ],
   "source": [
    "import torch\n",
    "import torch.nn as nn\n",
    "import numpy as np\n",
    "\n",
    "\n",
    "text=\"My name is Aasif. I am going to be next president of my kingdom. Pray for me\"\n",
    "\n",
    "\n",
    "token=text.lower().split()\n",
    "token\n",
    "type(token)\n",
    "type(set(token))\n",
    "\n",
    "unique={}\n",
    "rev_unique={}\n",
    "for idx, word in enumerate(set(token)):\n",
    "    unique[word]=idx\n",
    "    rev_unique[idx]=word\n",
    "    \n",
    "unique\n",
    "rev_unique\n",
    "\n"
   ]
  },
  {
   "cell_type": "code",
   "execution_count": null,
   "id": "4ae9d8c9",
   "metadata": {
    "papermill": {
     "duration": 0.001631,
     "end_time": "2025-10-06T16:22:01.181053",
     "exception": false,
     "start_time": "2025-10-06T16:22:01.179422",
     "status": "completed"
    },
    "tags": []
   },
   "outputs": [],
   "source": []
  }
 ],
 "metadata": {
  "kaggle": {
   "accelerator": "none",
   "dataSources": [],
   "dockerImageVersionId": 31089,
   "isGpuEnabled": false,
   "isInternetEnabled": true,
   "language": "python",
   "sourceType": "notebook"
  },
  "kernelspec": {
   "display_name": "Python 3",
   "language": "python",
   "name": "python3"
  },
  "language_info": {
   "codemirror_mode": {
    "name": "ipython",
    "version": 3
   },
   "file_extension": ".py",
   "mimetype": "text/x-python",
   "name": "python",
   "nbconvert_exporter": "python",
   "pygments_lexer": "ipython3",
   "version": "3.11.13"
  },
  "papermill": {
   "default_parameters": {},
   "duration": 20.378893,
   "end_time": "2025-10-06T16:22:03.007522",
   "environment_variables": {},
   "exception": null,
   "input_path": "__notebook__.ipynb",
   "output_path": "__notebook__.ipynb",
   "parameters": {},
   "start_time": "2025-10-06T16:21:42.628629",
   "version": "2.6.0"
  }
 },
 "nbformat": 4,
 "nbformat_minor": 5
}
